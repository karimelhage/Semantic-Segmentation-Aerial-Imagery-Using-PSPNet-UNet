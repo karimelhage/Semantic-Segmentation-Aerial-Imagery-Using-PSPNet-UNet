{
 "cells": [
  {
   "cell_type": "markdown",
   "id": "5h7vYCVRaO6U",
   "metadata": {
    "id": "5h7vYCVRaO6U"
   },
   "source": [
    "# Semantic Segmentation of Aeriel Imagery from Hurricane Harvey\n",
    "\n",
    "The actual project work was a largely iterative process and trial of different model and techniques. The below set of code is the final developed methodology and training.\n",
    "\n"
   ]
  },
  {
   "cell_type": "code",
   "execution_count": null,
   "id": "c5550e8b",
   "metadata": {
    "id": "c5550e8b"
   },
   "outputs": [],
   "source": [
    "import numpy as np\n",
    "import pandas as pd\n",
    "import torch.nn as nn\n",
    "import matplotlib.pyplot as plt\n",
    "\n",
    "import json \n",
    "from pprint import pprint\n",
    "import torch\n",
    "import torchvision\n",
    "from torch.utils.data import Dataset\n",
    "from torchvision import datasets\n",
    "import torchvision.transforms as transforms\n",
    "import torch.nn.functional as F\n",
    "import torchvision.transforms.functional as TF\n",
    "from torch.utils.data import DataLoader, random_split #Load Data in dataloader and random split\n",
    "from PIL import Image #For Image Processing\n",
    "import tifffile as tiff #For Handling tiff\n",
    "import glob #For reading and storing path directories\n",
    "import cv2 #For Image Processing\n",
    "import shutil #to be used to move files between folders\n",
    "import os\n",
    "\n",
    "from preprocessing import augment_images, patch_dataset #Import functions and classes defined in the attached preprocessing.py file\n",
    "from metrics import accuracy, weighted_f1 #Import functions defined in the evaluation metrics.py"
   ]
  },
  {
   "cell_type": "markdown",
   "id": "7029da52",
   "metadata": {
    "id": "7029da52"
   },
   "source": [
    "## Data Import and Visualization"
   ]
  },
  {
   "cell_type": "code",
   "execution_count": null,
   "id": "04ee74cf",
   "metadata": {
    "id": "04ee74cf",
    "outputId": "fa14efa3-1f00-40c4-c525-6daaeb0df431"
   },
   "outputs": [
    {
     "data": {
      "text/html": [
       "<div>\n",
       "<style scoped>\n",
       "    .dataframe tbody tr th:only-of-type {\n",
       "        vertical-align: middle;\n",
       "    }\n",
       "\n",
       "    .dataframe tbody tr th {\n",
       "        vertical-align: top;\n",
       "    }\n",
       "\n",
       "    .dataframe thead th {\n",
       "        text-align: right;\n",
       "    }\n",
       "</style>\n",
       "<table border=\"1\" class=\"dataframe\">\n",
       "  <thead>\n",
       "    <tr style=\"text-align: right;\">\n",
       "      <th></th>\n",
       "      <th>Unnamed: 0</th>\n",
       "      <th>image-id</th>\n",
       "      <th>image:01</th>\n",
       "      <th>date:01</th>\n",
       "      <th>type</th>\n",
       "      <th>geometry</th>\n",
       "      <th>label</th>\n",
       "    </tr>\n",
       "  </thead>\n",
       "  <tbody>\n",
       "    <tr>\n",
       "      <th>0</th>\n",
       "      <td>0</td>\n",
       "      <td>6373eb4cbfe85a8192f99b74</td>\n",
       "      <td>gs://geoengine-dataset-houston-uav/rasters/719...</td>\n",
       "      <td>2017-08-31T00:00:00+00:00</td>\n",
       "      <td>polygon</td>\n",
       "      <td>121 1709 105 1842 97 2070 383 2094 369 2580 10...</td>\n",
       "      <td>Property Roof</td>\n",
       "    </tr>\n",
       "    <tr>\n",
       "      <th>1</th>\n",
       "      <td>1</td>\n",
       "      <td>6373eb4cbfe85a8192f99b74</td>\n",
       "      <td>gs://geoengine-dataset-houston-uav/rasters/719...</td>\n",
       "      <td>2017-08-31T00:00:00+00:00</td>\n",
       "      <td>polygon</td>\n",
       "      <td>2716 2336 2877 2527 2939 2504 2953 2460 2927 2...</td>\n",
       "      <td>Vehicle</td>\n",
       "    </tr>\n",
       "    <tr>\n",
       "      <th>2</th>\n",
       "      <td>2</td>\n",
       "      <td>6373eb4cbfe85a8192f99b74</td>\n",
       "      <td>gs://geoengine-dataset-houston-uav/rasters/719...</td>\n",
       "      <td>2017-08-31T00:00:00+00:00</td>\n",
       "      <td>polygon</td>\n",
       "      <td>2809 2171 3002 2419 3099 2363 3044 2287 2962 2...</td>\n",
       "      <td>Vehicle</td>\n",
       "    </tr>\n",
       "    <tr>\n",
       "      <th>3</th>\n",
       "      <td>3</td>\n",
       "      <td>6373eb4cbfe85a8192f99b74</td>\n",
       "      <td>gs://geoengine-dataset-houston-uav/rasters/719...</td>\n",
       "      <td>2017-08-31T00:00:00+00:00</td>\n",
       "      <td>polygon</td>\n",
       "      <td>3399 2922 3468 2918 3628 2952 3696 2894 3902 2...</td>\n",
       "      <td>Property Roof</td>\n",
       "    </tr>\n",
       "    <tr>\n",
       "      <th>4</th>\n",
       "      <td>4</td>\n",
       "      <td>6373eb4cbfe85a8192f99b74</td>\n",
       "      <td>gs://geoengine-dataset-houston-uav/rasters/719...</td>\n",
       "      <td>2017-08-31T00:00:00+00:00</td>\n",
       "      <td>polygon</td>\n",
       "      <td>2826 1633 3063 1909 3136 1872 3245 1772 3047 1...</td>\n",
       "      <td>Secondary Structure</td>\n",
       "    </tr>\n",
       "  </tbody>\n",
       "</table>\n",
       "</div>"
      ],
      "text/plain": [
       "   Unnamed: 0                  image-id  \\\n",
       "0           0  6373eb4cbfe85a8192f99b74   \n",
       "1           1  6373eb4cbfe85a8192f99b74   \n",
       "2           2  6373eb4cbfe85a8192f99b74   \n",
       "3           3  6373eb4cbfe85a8192f99b74   \n",
       "4           4  6373eb4cbfe85a8192f99b74   \n",
       "\n",
       "                                            image:01  \\\n",
       "0  gs://geoengine-dataset-houston-uav/rasters/719...   \n",
       "1  gs://geoengine-dataset-houston-uav/rasters/719...   \n",
       "2  gs://geoengine-dataset-houston-uav/rasters/719...   \n",
       "3  gs://geoengine-dataset-houston-uav/rasters/719...   \n",
       "4  gs://geoengine-dataset-houston-uav/rasters/719...   \n",
       "\n",
       "                     date:01     type  \\\n",
       "0  2017-08-31T00:00:00+00:00  polygon   \n",
       "1  2017-08-31T00:00:00+00:00  polygon   \n",
       "2  2017-08-31T00:00:00+00:00  polygon   \n",
       "3  2017-08-31T00:00:00+00:00  polygon   \n",
       "4  2017-08-31T00:00:00+00:00  polygon   \n",
       "\n",
       "                                            geometry                label  \n",
       "0  121 1709 105 1842 97 2070 383 2094 369 2580 10...        Property Roof  \n",
       "1  2716 2336 2877 2527 2939 2504 2953 2460 2927 2...              Vehicle  \n",
       "2  2809 2171 3002 2419 3099 2363 3044 2287 2962 2...              Vehicle  \n",
       "3  3399 2922 3468 2918 3628 2952 3696 2894 3902 2...        Property Roof  \n",
       "4  2826 1633 3063 1909 3136 1872 3245 1772 3047 1...  Secondary Structure  "
      ]
     },
     "execution_count": 3,
     "metadata": {},
     "output_type": "execute_result"
    }
   ],
   "source": [
    "path = 'Dataset/'\n",
    "\n",
    "df_train = pd.read_csv(path+'train.csv')\n",
    "df_train.head()"
   ]
  },
  {
   "cell_type": "code",
   "execution_count": null,
   "id": "3602ce22",
   "metadata": {
    "id": "3602ce22",
    "outputId": "fa42974a-ddae-4361-8524-fdf6934a48d8"
   },
   "outputs": [
    {
     "name": "stdout",
     "output_type": "stream",
     "text": [
      "<class 'pandas.core.frame.DataFrame'>\n",
      "RangeIndex: 22419 entries, 0 to 22418\n",
      "Data columns (total 7 columns):\n",
      " #   Column      Non-Null Count  Dtype \n",
      "---  ------      --------------  ----- \n",
      " 0   Unnamed: 0  22419 non-null  int64 \n",
      " 1   image-id    22419 non-null  object\n",
      " 2   image:01    22419 non-null  object\n",
      " 3   date:01     22419 non-null  object\n",
      " 4   type        22419 non-null  object\n",
      " 5   geometry    22419 non-null  object\n",
      " 6   label       22419 non-null  object\n",
      "dtypes: int64(1), object(6)\n",
      "memory usage: 1.2+ MB\n"
     ]
    }
   ],
   "source": [
    "df_train.info()"
   ]
  },
  {
   "cell_type": "code",
   "execution_count": null,
   "id": "83b5ffdc",
   "metadata": {
    "id": "83b5ffdc",
    "outputId": "83e8efe5-2488-4f52-cae2-329c254b7a15"
   },
   "outputs": [
    {
     "data": {
      "image/png": "[encoded data removed]",
      "text/plain": [
       "<Figure size 432x288 with 1 Axes>"
      ]
     },
     "metadata": {
      "needs_background": "light"
     },
     "output_type": "display_data"
    }
   ],
   "source": [
    "#Train Data Label Distribution \n",
    "df_train.label.value_counts().plot.bar()\n",
    "plt.ylabel('Frequency')\n",
    "plt.title('Class Distribution in Train set')\n",
    "plt.show()"
   ]
  },
  {
   "cell_type": "markdown",
   "id": "57d05da7",
   "metadata": {
    "id": "57d05da7"
   },
   "source": [
    "## Data Pre-processing"
   ]
  },
  {
   "cell_type": "markdown",
   "id": "3cd65e21",
   "metadata": {
    "id": "3cd65e21"
   },
   "source": [
    "Images shall all augmented at random using brightening/darkening, horizontal/vertical flips and rotation\n",
    "techniques. Since the images are quite large, images shall be splits into smaller patches so that the model can capture model details. These shall be stored in a dataset object which would slow training since the augmented images are only split into a patch when called in the object. However, it saves the need to save the patches locally on the drive."
   ]
  },
  {
   "cell_type": "code",
   "execution_count": null,
   "id": "1812a2db",
   "metadata": {
    "id": "1812a2db"
   },
   "outputs": [],
   "source": [
    "#Create a new Training Images based on conditions set in augment_image function found in preprocessing.py\n",
    "path = 'Dataset/'\n",
    "train_img_path, train_msk_path = augment_images(image_path = path + 'train_images/',\n",
    "                                                mask_path = path + 'train_masks/', parent_dir = path)"
   ]
  },
  {
   "cell_type": "code",
   "execution_count": null,
   "id": "bfcfc0ca",
   "metadata": {
    "id": "bfcfc0ca"
   },
   "outputs": [],
   "source": [
    "#Create Train Dataset object using patch_dataset class defined in preprocessing.py\n",
    "train_dataset = patch_dataset(sorted(glob.glob(train_img_path + '/*')),\n",
    "                              sorted(glob.glob(train_msk_path+'/*')),patch_size_x = 1333, patch_size_y = 1500)"
   ]
  },
  {
   "cell_type": "code",
   "execution_count": null,
   "id": "41730b2a",
   "metadata": {
    "id": "41730b2a",
    "outputId": "4967268f-a238-494f-a376-bf916cbe1ead"
   },
   "outputs": [
    {
     "data": {
      "image/png": "[encoded data removed]",
      "text/plain": [
       "<Figure size 432x288 with 1 Axes>"
      ]
     },
     "metadata": {
      "needs_background": "light"
     },
     "output_type": "display_data"
    },
    {
     "data": {
      "image/png": "[encoded data removed]",
      "text/plain": [
       "<Figure size 432x288 with 1 Axes>"
      ]
     },
     "metadata": {
      "needs_background": "light"
     },
     "output_type": "display_data"
    }
   ],
   "source": [
    "#Example mask patch\n",
    "rand_idx = np.random.randint(len(glob.glob(train_img_path + '/*')) - 1, dtype=int)\n",
    "rand_patch_idx = np.random.randint(train_dataset[0][1].shape[0] - 1, dtype=int)\n",
    "plt.figure()\n",
    "plt.imshow(train_dataset[rand_idx][1][rand_patch_idx])\n",
    "plt.title('Sample Patch Mask')\n",
    "plt.show()\n",
    "plt.figure()\n",
    "\n",
    "plt.imshow(train_dataset[rand_idx][0][rand_patch_idx].permute(1,2,0).detach().numpy())\n",
    "plt.title('Sample Patch Image')\n",
    "plt.show()"
   ]
  },
  {
   "cell_type": "markdown",
   "id": "ObXZaFGhC6Sx",
   "metadata": {
    "id": "ObXZaFGhC6Sx"
   },
   "source": [
    "## Model Training"
   ]
  },
  {
   "cell_type": "markdown",
   "id": "GsKWIWOhSiiE",
   "metadata": {
    "id": "GsKWIWOhSiiE"
   },
   "source": [
    "The baseline architecture for this projects is a U-NET model who's architecture has been built has been built from scratch and can be found in the old files in the repository. For the final model trials, pre-trained U-NET and PSP-NET were used to boost performance."
   ]
  },
  {
   "cell_type": "code",
   "execution_count": null,
   "id": "rcrwmmx4ScIQ",
   "metadata": {
    "id": "rcrwmmx4ScIQ"
   },
   "outputs": [],
   "source": [
    "!pip install -q -U segmentation-models-pytorch albumentations > /dev/null\n",
    "import segmentation_models_pytorch as smp # semantic segmentation library with pre-trained segmentation models\n",
    "from torch.optim import lr_scheduler #learning rate schedules that decays learning rate during training"
   ]
  },
  {
   "cell_type": "code",
   "execution_count": null,
   "id": "fFdoxa_AR-js",
   "metadata": {
    "id": "fFdoxa_AR-js"
   },
   "outputs": [],
   "source": [
    "train_size = int(0.8 * len(train_dataset))\n",
    "test_size = len(train_dataset) - train_size\n",
    "train_set, test_set = random_split(train_dataset, [train_size, test_size])"
   ]
  },
  {
   "cell_type": "code",
   "execution_count": null,
   "id": "zUDzzaknLt9A",
   "metadata": {
    "id": "zUDzzaknLt9A"
   },
   "outputs": [],
   "source": [
    "#small batch size chosen since each entry in a batch contains 6 patches. So each batch will contained 60 images to train on \n",
    "train_dataloader = DataLoader(train_set, batch_size=10, shuffle=True) \n",
    "val_dataloader = DataLoader(test_set, batch_size=10, shuffle=False)"
   ]
  },
  {
   "cell_type": "code",
   "execution_count": null,
   "id": "EbtJGhj6QYz3",
   "metadata": {
    "colab": {
     "base_uri": "https://localhost:8080/"
    },
    "id": "EbtJGhj6QYz3",
    "outputId": "de3ae071-2fc1-4088-c4c7-e65b3f9e5890"
   },
   "outputs": [
    {
     "name": "stdout",
     "output_type": "stream",
     "text": [
      "Device used: cpu\n"
     ]
    }
   ],
   "source": [
    "device = torch.device('cuda' if torch.cuda.is_available() else 'cpu')\n",
    "print(f'Device used: {device}')"
   ]
  },
  {
   "cell_type": "code",
   "execution_count": null,
   "id": "0l90BqpZTNi0",
   "metadata": {
    "id": "0l90BqpZTNi0"
   },
   "outputs": [],
   "source": [
    "lr = 0.001 #initial learning rate \n",
    "optimizer = torch.optim.Adam(model.parameters(), lr = lr)\n",
    "epochs = 30\n",
    "lr_scheduler = lr_scheduler.PolynomialLR(optimizer,total_iters=25, power=0.9) #schedule to decay initial learning rate"
   ]
  },
  {
   "cell_type": "code",
   "execution_count": null,
   "id": "s0KOwWTlilp7",
   "metadata": {
    "id": "s0KOwWTlilp7"
   },
   "outputs": [],
   "source": [
    "from models import train_UNet #function to train unet models from the models.py\n",
    "from plot_utils import plot_losses #function to plot losses from plot_utils.py"
   ]
  },
  {
   "cell_type": "markdown",
   "id": "Fj6ZClhuDA9m",
   "metadata": {
    "id": "Fj6ZClhuDA9m"
   },
   "source": [
    "### U-NET Training"
   ]
  },
  {
   "cell_type": "code",
   "execution_count": null,
   "id": "JsoWz_bkSblW",
   "metadata": {
    "id": "JsoWz_bkSblW"
   },
   "outputs": [],
   "source": [
    "model_Unet = smp.Unet(\n",
    "    encoder_name = 'resnet101', \n",
    "    encoder_weights = 'imagenet',\n",
    "    in_channels = 3, \n",
    "    classes = 27, \n",
    "    decoder_channels=(512, 256, 128, 64, 32),\n",
    "    activation = None, \n",
    ").to(device)"
   ]
  },
  {
   "cell_type": "code",
   "execution_count": null,
   "id": "MqypJfZUXSV8",
   "metadata": {
    "id": "MqypJfZUXSV8"
   },
   "outputs": [],
   "source": [
    "from models import train_UNet #function created to train U-Net\n",
    "from plot_utils import plot_losses #function creates to plot training losses"
   ]
  },
  {
   "cell_type": "code",
   "execution_count": null,
   "id": "-8G5F-jccluU",
   "metadata": {
    "colab": {
     "base_uri": "https://localhost:8080/"
    },
    "id": "-8G5F-jccluU",
    "outputId": "20b32e3b-02b7-4266-a791-0754bd401d77"
   },
   "outputs": [
    {
     "name": "stderr",
     "output_type": "stream",
     "text": [
      "100%|██████████| 24/24 [08:38<00:00, 21.62s/it]\n"
     ]
    },
    {
     "name": "stdout",
     "output_type": "stream",
     "text": [
      "TRAIN       Epoch: 1 | Epoch metrics | loss: 2.3886, f1: 0.209, accuracy: 0.374\n"
     ]
    },
    {
     "name": "stderr",
     "output_type": "stream",
     "text": [
      "100%|██████████| 6/6 [02:21<00:00, 23.56s/it]\n"
     ]
    },
    {
     "name": "stdout",
     "output_type": "stream",
     "text": [
      "VAL       Epoch: 1 | Epoch metrics | loss: 2.5305, f1: 0.192, accuracy: 0.402\n"
     ]
    },
    {
     "name": "stderr",
     "output_type": "stream",
     "text": [
      "100%|██████████| 24/24 [01:46<00:00,  4.44s/it]\n"
     ]
    },
    {
     "name": "stdout",
     "output_type": "stream",
     "text": [
      "TRAIN       Epoch: 2 | Epoch metrics | loss: 1.4795, f1: 0.320, accuracy: 0.585\n"
     ]
    },
    {
     "name": "stderr",
     "output_type": "stream",
     "text": [
      "100%|██████████| 6/6 [00:26<00:00,  4.39s/it]\n"
     ]
    },
    {
     "name": "stdout",
     "output_type": "stream",
     "text": [
      "VAL       Epoch: 2 | Epoch metrics | loss: 2.0386, f1: 0.294, accuracy: 0.551\n"
     ]
    },
    {
     "name": "stderr",
     "output_type": "stream",
     "text": [
      "100%|██████████| 24/24 [01:46<00:00,  4.46s/it]\n"
     ]
    },
    {
     "name": "stdout",
     "output_type": "stream",
     "text": [
      "TRAIN       Epoch: 3 | Epoch metrics | loss: 1.2536, f1: 0.338, accuracy: 0.619\n"
     ]
    },
    {
     "name": "stderr",
     "output_type": "stream",
     "text": [
      "100%|██████████| 6/6 [00:26<00:00,  4.40s/it]\n"
     ]
    },
    {
     "name": "stdout",
     "output_type": "stream",
     "text": [
      "VAL       Epoch: 3 | Epoch metrics | loss: 1.3336, f1: 0.319, accuracy: 0.596\n"
     ]
    },
    {
     "name": "stderr",
     "output_type": "stream",
     "text": [
      "100%|██████████| 24/24 [01:46<00:00,  4.45s/it]\n"
     ]
    },
    {
     "name": "stdout",
     "output_type": "stream",
     "text": [
      "TRAIN       Epoch: 4 | Epoch metrics | loss: 1.1915, f1: 0.335, accuracy: 0.638\n"
     ]
    },
    {
     "name": "stderr",
     "output_type": "stream",
     "text": [
      "100%|██████████| 6/6 [00:26<00:00,  4.39s/it]\n"
     ]
    },
    {
     "name": "stdout",
     "output_type": "stream",
     "text": [
      "VAL       Epoch: 4 | Epoch metrics | loss: 1.3983, f1: 0.307, accuracy: 0.598\n"
     ]
    },
    {
     "name": "stderr",
     "output_type": "stream",
     "text": [
      "100%|██████████| 24/24 [01:46<00:00,  4.44s/it]\n"
     ]
    },
    {
     "name": "stdout",
     "output_type": "stream",
     "text": [
      "TRAIN       Epoch: 5 | Epoch metrics | loss: 1.1188, f1: 0.353, accuracy: 0.651\n"
     ]
    },
    {
     "name": "stderr",
     "output_type": "stream",
     "text": [
      "100%|██████████| 6/6 [00:26<00:00,  4.39s/it]\n"
     ]
    },
    {
     "name": "stdout",
     "output_type": "stream",
     "text": [
      "VAL       Epoch: 5 | Epoch metrics | loss: 1.2107, f1: 0.340, accuracy: 0.629\n"
     ]
    },
    {
     "name": "stderr",
     "output_type": "stream",
     "text": [
      "100%|██████████| 24/24 [01:46<00:00,  4.45s/it]\n"
     ]
    },
    {
     "name": "stdout",
     "output_type": "stream",
     "text": [
      "TRAIN       Epoch: 6 | Epoch metrics | loss: 1.1076, f1: 0.355, accuracy: 0.656\n"
     ]
    },
    {
     "name": "stderr",
     "output_type": "stream",
     "text": [
      "100%|██████████| 6/6 [00:26<00:00,  4.42s/it]\n"
     ]
    },
    {
     "name": "stdout",
     "output_type": "stream",
     "text": [
      "VAL       Epoch: 6 | Epoch metrics | loss: 1.0899, f1: 0.366, accuracy: 0.671\n"
     ]
    },
    {
     "name": "stderr",
     "output_type": "stream",
     "text": [
      "100%|██████████| 24/24 [01:46<00:00,  4.45s/it]\n"
     ]
    },
    {
     "name": "stdout",
     "output_type": "stream",
     "text": [
      "TRAIN       Epoch: 7 | Epoch metrics | loss: 1.0656, f1: 0.362, accuracy: 0.666\n"
     ]
    },
    {
     "name": "stderr",
     "output_type": "stream",
     "text": [
      "100%|██████████| 6/6 [00:26<00:00,  4.37s/it]\n"
     ]
    },
    {
     "name": "stdout",
     "output_type": "stream",
     "text": [
      "VAL       Epoch: 7 | Epoch metrics | loss: 1.1763, f1: 0.345, accuracy: 0.651\n"
     ]
    },
    {
     "name": "stderr",
     "output_type": "stream",
     "text": [
      "100%|██████████| 24/24 [01:46<00:00,  4.43s/it]\n"
     ]
    },
    {
     "name": "stdout",
     "output_type": "stream",
     "text": [
      "TRAIN       Epoch: 8 | Epoch metrics | loss: 1.0505, f1: 0.364, accuracy: 0.670\n"
     ]
    },
    {
     "name": "stderr",
     "output_type": "stream",
     "text": [
      "100%|██████████| 6/6 [00:26<00:00,  4.39s/it]\n"
     ]
    },
    {
     "name": "stdout",
     "output_type": "stream",
     "text": [
      "VAL       Epoch: 8 | Epoch metrics | loss: 1.0849, f1: 0.368, accuracy: 0.692\n"
     ]
    },
    {
     "name": "stderr",
     "output_type": "stream",
     "text": [
      "100%|██████████| 24/24 [01:46<00:00,  4.43s/it]\n"
     ]
    },
    {
     "name": "stdout",
     "output_type": "stream",
     "text": [
      "TRAIN       Epoch: 9 | Epoch metrics | loss: 0.9727, f1: 0.374, accuracy: 0.700\n"
     ]
    },
    {
     "name": "stderr",
     "output_type": "stream",
     "text": [
      "100%|██████████| 6/6 [00:26<00:00,  4.38s/it]\n"
     ]
    },
    {
     "name": "stdout",
     "output_type": "stream",
     "text": [
      "VAL       Epoch: 9 | Epoch metrics | loss: 1.0426, f1: 0.364, accuracy: 0.688\n"
     ]
    },
    {
     "name": "stderr",
     "output_type": "stream",
     "text": [
      "100%|██████████| 24/24 [01:46<00:00,  4.43s/it]\n"
     ]
    },
    {
     "name": "stdout",
     "output_type": "stream",
     "text": [
      "TRAIN       Epoch: 10 | Epoch metrics | loss: 0.9595, f1: 0.370, accuracy: 0.702\n"
     ]
    },
    {
     "name": "stderr",
     "output_type": "stream",
     "text": [
      "100%|██████████| 6/6 [00:26<00:00,  4.38s/it]\n"
     ]
    },
    {
     "name": "stdout",
     "output_type": "stream",
     "text": [
      "VAL       Epoch: 10 | Epoch metrics | loss: 1.1687, f1: 0.346, accuracy: 0.680\n"
     ]
    },
    {
     "name": "stderr",
     "output_type": "stream",
     "text": [
      "100%|██████████| 24/24 [01:46<00:00,  4.43s/it]\n"
     ]
    },
    {
     "name": "stdout",
     "output_type": "stream",
     "text": [
      "TRAIN       Epoch: 11 | Epoch metrics | loss: 0.9461, f1: 0.372, accuracy: 0.695\n"
     ]
    },
    {
     "name": "stderr",
     "output_type": "stream",
     "text": [
      "100%|██████████| 6/6 [00:26<00:00,  4.37s/it]\n"
     ]
    },
    {
     "name": "stdout",
     "output_type": "stream",
     "text": [
      "VAL       Epoch: 11 | Epoch metrics | loss: 1.0306, f1: 0.366, accuracy: 0.685\n"
     ]
    },
    {
     "name": "stderr",
     "output_type": "stream",
     "text": [
      "100%|██████████| 24/24 [01:46<00:00,  4.43s/it]\n"
     ]
    },
    {
     "name": "stdout",
     "output_type": "stream",
     "text": [
      "TRAIN       Epoch: 12 | Epoch metrics | loss: 0.9427, f1: 0.378, accuracy: 0.706\n"
     ]
    },
    {
     "name": "stderr",
     "output_type": "stream",
     "text": [
      "100%|██████████| 6/6 [00:26<00:00,  4.38s/it]\n"
     ]
    },
    {
     "name": "stdout",
     "output_type": "stream",
     "text": [
      "VAL       Epoch: 12 | Epoch metrics | loss: 1.0991, f1: 0.360, accuracy: 0.672\n"
     ]
    },
    {
     "name": "stderr",
     "output_type": "stream",
     "text": [
      "100%|██████████| 24/24 [01:46<00:00,  4.43s/it]\n"
     ]
    },
    {
     "name": "stdout",
     "output_type": "stream",
     "text": [
      "TRAIN       Epoch: 13 | Epoch metrics | loss: 0.9204, f1: 0.380, accuracy: 0.714\n"
     ]
    },
    {
     "name": "stderr",
     "output_type": "stream",
     "text": [
      "100%|██████████| 6/6 [00:26<00:00,  4.39s/it]\n"
     ]
    },
    {
     "name": "stdout",
     "output_type": "stream",
     "text": [
      "VAL       Epoch: 13 | Epoch metrics | loss: 1.0319, f1: 0.373, accuracy: 0.699\n"
     ]
    },
    {
     "name": "stderr",
     "output_type": "stream",
     "text": [
      "100%|██████████| 24/24 [01:46<00:00,  4.43s/it]\n"
     ]
    },
    {
     "name": "stdout",
     "output_type": "stream",
     "text": [
      "TRAIN       Epoch: 14 | Epoch metrics | loss: 0.9055, f1: 0.382, accuracy: 0.718\n"
     ]
    },
    {
     "name": "stderr",
     "output_type": "stream",
     "text": [
      "100%|██████████| 6/6 [00:26<00:00,  4.38s/it]\n"
     ]
    },
    {
     "name": "stdout",
     "output_type": "stream",
     "text": [
      "VAL       Epoch: 14 | Epoch metrics | loss: 0.9426, f1: 0.367, accuracy: 0.717\n"
     ]
    },
    {
     "name": "stderr",
     "output_type": "stream",
     "text": [
      "100%|██████████| 24/24 [01:46<00:00,  4.43s/it]\n"
     ]
    },
    {
     "name": "stdout",
     "output_type": "stream",
     "text": [
      "TRAIN       Epoch: 15 | Epoch metrics | loss: 0.8558, f1: 0.385, accuracy: 0.731\n"
     ]
    },
    {
     "name": "stderr",
     "output_type": "stream",
     "text": [
      "100%|██████████| 6/6 [00:26<00:00,  4.40s/it]\n"
     ]
    },
    {
     "name": "stdout",
     "output_type": "stream",
     "text": [
      "VAL       Epoch: 15 | Epoch metrics | loss: 0.9677, f1: 0.371, accuracy: 0.711\n"
     ]
    },
    {
     "name": "stderr",
     "output_type": "stream",
     "text": [
      "100%|██████████| 24/24 [01:46<00:00,  4.43s/it]\n"
     ]
    },
    {
     "name": "stdout",
     "output_type": "stream",
     "text": [
      "TRAIN       Epoch: 16 | Epoch metrics | loss: 0.8143, f1: 0.390, accuracy: 0.746\n"
     ]
    },
    {
     "name": "stderr",
     "output_type": "stream",
     "text": [
      "100%|██████████| 6/6 [00:26<00:00,  4.40s/it]\n"
     ]
    },
    {
     "name": "stdout",
     "output_type": "stream",
     "text": [
      "VAL       Epoch: 16 | Epoch metrics | loss: 0.9895, f1: 0.376, accuracy: 0.712\n"
     ]
    },
    {
     "name": "stderr",
     "output_type": "stream",
     "text": [
      "100%|██████████| 24/24 [01:46<00:00,  4.44s/it]\n"
     ]
    },
    {
     "name": "stdout",
     "output_type": "stream",
     "text": [
      "TRAIN       Epoch: 17 | Epoch metrics | loss: 0.8195, f1: 0.389, accuracy: 0.748\n"
     ]
    },
    {
     "name": "stderr",
     "output_type": "stream",
     "text": [
      "100%|██████████| 6/6 [00:26<00:00,  4.41s/it]\n"
     ]
    },
    {
     "name": "stdout",
     "output_type": "stream",
     "text": [
      "VAL       Epoch: 17 | Epoch metrics | loss: 0.9298, f1: 0.367, accuracy: 0.725\n"
     ]
    },
    {
     "name": "stderr",
     "output_type": "stream",
     "text": [
      "100%|██████████| 24/24 [01:46<00:00,  4.43s/it]\n"
     ]
    },
    {
     "name": "stdout",
     "output_type": "stream",
     "text": [
      "TRAIN       Epoch: 18 | Epoch metrics | loss: 0.7880, f1: 0.396, accuracy: 0.758\n"
     ]
    },
    {
     "name": "stderr",
     "output_type": "stream",
     "text": [
      "100%|██████████| 6/6 [00:26<00:00,  4.38s/it]\n"
     ]
    },
    {
     "name": "stdout",
     "output_type": "stream",
     "text": [
      "VAL       Epoch: 18 | Epoch metrics | loss: 0.9633, f1: 0.380, accuracy: 0.723\n"
     ]
    },
    {
     "name": "stderr",
     "output_type": "stream",
     "text": [
      "100%|██████████| 24/24 [01:46<00:00,  4.43s/it]\n"
     ]
    },
    {
     "name": "stdout",
     "output_type": "stream",
     "text": [
      "TRAIN       Epoch: 19 | Epoch metrics | loss: 0.7898, f1: 0.395, accuracy: 0.754\n"
     ]
    },
    {
     "name": "stderr",
     "output_type": "stream",
     "text": [
      "100%|██████████| 6/6 [00:26<00:00,  4.39s/it]\n"
     ]
    },
    {
     "name": "stdout",
     "output_type": "stream",
     "text": [
      "VAL       Epoch: 19 | Epoch metrics | loss: 0.9894, f1: 0.361, accuracy: 0.705\n"
     ]
    },
    {
     "name": "stderr",
     "output_type": "stream",
     "text": [
      "100%|██████████| 24/24 [01:46<00:00,  4.43s/it]\n"
     ]
    },
    {
     "name": "stdout",
     "output_type": "stream",
     "text": [
      "TRAIN       Epoch: 20 | Epoch metrics | loss: 0.7531, f1: 0.401, accuracy: 0.765\n"
     ]
    },
    {
     "name": "stderr",
     "output_type": "stream",
     "text": [
      "100%|██████████| 6/6 [00:26<00:00,  4.39s/it]\n"
     ]
    },
    {
     "name": "stdout",
     "output_type": "stream",
     "text": [
      "VAL       Epoch: 20 | Epoch metrics | loss: 0.9773, f1: 0.359, accuracy: 0.701\n"
     ]
    },
    {
     "name": "stderr",
     "output_type": "stream",
     "text": [
      "100%|██████████| 24/24 [01:46<00:00,  4.45s/it]\n"
     ]
    },
    {
     "name": "stdout",
     "output_type": "stream",
     "text": [
      "TRAIN       Epoch: 21 | Epoch metrics | loss: 0.7235, f1: 0.403, accuracy: 0.779\n"
     ]
    },
    {
     "name": "stderr",
     "output_type": "stream",
     "text": [
      "100%|██████████| 6/6 [00:26<00:00,  4.39s/it]\n"
     ]
    },
    {
     "name": "stdout",
     "output_type": "stream",
     "text": [
      "VAL       Epoch: 21 | Epoch metrics | loss: 0.9819, f1: 0.373, accuracy: 0.699\n"
     ]
    },
    {
     "name": "stderr",
     "output_type": "stream",
     "text": [
      "100%|██████████| 24/24 [01:46<00:00,  4.44s/it]\n"
     ]
    },
    {
     "name": "stdout",
     "output_type": "stream",
     "text": [
      "TRAIN       Epoch: 22 | Epoch metrics | loss: 0.6899, f1: 0.409, accuracy: 0.791\n"
     ]
    },
    {
     "name": "stderr",
     "output_type": "stream",
     "text": [
      "100%|██████████| 6/6 [00:26<00:00,  4.39s/it]\n"
     ]
    },
    {
     "name": "stdout",
     "output_type": "stream",
     "text": [
      "VAL       Epoch: 22 | Epoch metrics | loss: 0.8561, f1: 0.390, accuracy: 0.749\n"
     ]
    },
    {
     "name": "stderr",
     "output_type": "stream",
     "text": [
      "100%|██████████| 24/24 [01:46<00:00,  4.44s/it]\n"
     ]
    },
    {
     "name": "stdout",
     "output_type": "stream",
     "text": [
      "TRAIN       Epoch: 23 | Epoch metrics | loss: 0.6608, f1: 0.412, accuracy: 0.803\n"
     ]
    },
    {
     "name": "stderr",
     "output_type": "stream",
     "text": [
      "100%|██████████| 6/6 [00:26<00:00,  4.40s/it]\n"
     ]
    },
    {
     "name": "stdout",
     "output_type": "stream",
     "text": [
      "VAL       Epoch: 23 | Epoch metrics | loss: 0.8517, f1: 0.388, accuracy: 0.747\n"
     ]
    },
    {
     "name": "stderr",
     "output_type": "stream",
     "text": [
      "100%|██████████| 24/24 [01:46<00:00,  4.44s/it]\n"
     ]
    },
    {
     "name": "stdout",
     "output_type": "stream",
     "text": [
      "TRAIN       Epoch: 24 | Epoch metrics | loss: 0.6432, f1: 0.417, accuracy: 0.806\n"
     ]
    },
    {
     "name": "stderr",
     "output_type": "stream",
     "text": [
      "100%|██████████| 6/6 [00:26<00:00,  4.42s/it]\n"
     ]
    },
    {
     "name": "stdout",
     "output_type": "stream",
     "text": [
      "VAL       Epoch: 24 | Epoch metrics | loss: 0.9103, f1: 0.385, accuracy: 0.725\n"
     ]
    },
    {
     "name": "stderr",
     "output_type": "stream",
     "text": [
      "100%|██████████| 24/24 [01:46<00:00,  4.45s/it]\n"
     ]
    },
    {
     "name": "stdout",
     "output_type": "stream",
     "text": [
      "TRAIN       Epoch: 25 | Epoch metrics | loss: 0.6389, f1: 0.416, accuracy: 0.811\n"
     ]
    },
    {
     "name": "stderr",
     "output_type": "stream",
     "text": [
      "100%|██████████| 6/6 [00:26<00:00,  4.39s/it]\n"
     ]
    },
    {
     "name": "stdout",
     "output_type": "stream",
     "text": [
      "VAL       Epoch: 25 | Epoch metrics | loss: 0.8720, f1: 0.393, accuracy: 0.754\n"
     ]
    },
    {
     "name": "stderr",
     "output_type": "stream",
     "text": [
      "100%|██████████| 24/24 [01:46<00:00,  4.45s/it]\n"
     ]
    },
    {
     "name": "stdout",
     "output_type": "stream",
     "text": [
      "TRAIN       Epoch: 26 | Epoch metrics | loss: 0.6208, f1: 0.420, accuracy: 0.818\n"
     ]
    },
    {
     "name": "stderr",
     "output_type": "stream",
     "text": [
      "100%|██████████| 6/6 [00:26<00:00,  4.40s/it]\n"
     ]
    },
    {
     "name": "stdout",
     "output_type": "stream",
     "text": [
      "VAL       Epoch: 26 | Epoch metrics | loss: 1.1135, f1: 0.387, accuracy: 0.736\n"
     ]
    },
    {
     "name": "stderr",
     "output_type": "stream",
     "text": [
      "100%|██████████| 24/24 [01:46<00:00,  4.45s/it]\n"
     ]
    },
    {
     "name": "stdout",
     "output_type": "stream",
     "text": [
      "TRAIN       Epoch: 27 | Epoch metrics | loss: 0.5987, f1: 0.422, accuracy: 0.824\n"
     ]
    },
    {
     "name": "stderr",
     "output_type": "stream",
     "text": [
      "100%|██████████| 6/6 [00:26<00:00,  4.40s/it]\n"
     ]
    },
    {
     "name": "stdout",
     "output_type": "stream",
     "text": [
      "VAL       Epoch: 27 | Epoch metrics | loss: 0.8872, f1: 0.388, accuracy: 0.743\n"
     ]
    },
    {
     "name": "stderr",
     "output_type": "stream",
     "text": [
      "100%|██████████| 24/24 [01:46<00:00,  4.43s/it]\n"
     ]
    },
    {
     "name": "stdout",
     "output_type": "stream",
     "text": [
      "TRAIN       Epoch: 28 | Epoch metrics | loss: 0.5694, f1: 0.427, accuracy: 0.834\n"
     ]
    },
    {
     "name": "stderr",
     "output_type": "stream",
     "text": [
      "100%|██████████| 6/6 [00:26<00:00,  4.40s/it]\n"
     ]
    },
    {
     "name": "stdout",
     "output_type": "stream",
     "text": [
      "VAL       Epoch: 28 | Epoch metrics | loss: 0.8422, f1: 0.391, accuracy: 0.748\n"
     ]
    },
    {
     "name": "stderr",
     "output_type": "stream",
     "text": [
      "100%|██████████| 24/24 [01:46<00:00,  4.44s/it]\n"
     ]
    },
    {
     "name": "stdout",
     "output_type": "stream",
     "text": [
      "TRAIN       Epoch: 29 | Epoch metrics | loss: 0.5450, f1: 0.432, accuracy: 0.843\n"
     ]
    },
    {
     "name": "stderr",
     "output_type": "stream",
     "text": [
      "100%|██████████| 6/6 [00:26<00:00,  4.40s/it]\n"
     ]
    },
    {
     "name": "stdout",
     "output_type": "stream",
     "text": [
      "VAL       Epoch: 29 | Epoch metrics | loss: 0.8239, f1: 0.395, accuracy: 0.760\n"
     ]
    },
    {
     "name": "stderr",
     "output_type": "stream",
     "text": [
      "100%|██████████| 24/24 [01:46<00:00,  4.44s/it]\n"
     ]
    },
    {
     "name": "stdout",
     "output_type": "stream",
     "text": [
      "TRAIN       Epoch: 30 | Epoch metrics | loss: 0.5062, f1: 0.437, accuracy: 0.855\n"
     ]
    },
    {
     "name": "stderr",
     "output_type": "stream",
     "text": [
      "100%|██████████| 6/6 [00:26<00:00,  4.40s/it]"
     ]
    },
    {
     "name": "stdout",
     "output_type": "stream",
     "text": [
      "VAL       Epoch: 30 | Epoch metrics | loss: 0.8563, f1: 0.393, accuracy: 0.753\n"
     ]
    },
    {
     "name": "stderr",
     "output_type": "stream",
     "text": [
      "\n"
     ]
    }
   ],
   "source": [
    "model_Unet,total_train_losses, total_train_accuracy, total_train_f1, total_val_losses, total_val_accuracy, total_val_f1 = train_UNet(model_Unet, \n",
    "                                                                                                                                     optimizer, \n",
    "                                                                                                                                     epochs, \n",
    "                                                                                                                                     train_dataloader, \n",
    "                                                                                                                                     val_dataloader, \n",
    "                                                                                                                                     lr_scheduler, \n",
    "                                                                                                                                     device)"
   ]
  },
  {
   "cell_type": "code",
   "execution_count": null,
   "id": "Ex0Z_BYAf_pr",
   "metadata": {
    "colab": {
     "base_uri": "https://localhost:8080/",
     "height": 497
    },
    "id": "Ex0Z_BYAf_pr",
    "outputId": "c889f439-6995-4c91-e1a1-2c59e5c62168"
   },
   "outputs": [
    {
     "data": {
      "image/png": "[encoded data removed]",
      "text/plain": [
       "<Figure size 720x576 with 1 Axes>"
      ]
     },
     "metadata": {
      "needs_background": "light"
     },
     "output_type": "display_data"
    }
   ],
   "source": [
    "plot_losses(total_train_losses, total_val_losses)"
   ]
  },
  {
   "cell_type": "markdown",
   "id": "NmP_UXQtaCNu",
   "metadata": {
    "id": "NmP_UXQtaCNu"
   },
   "source": [
    "### PSP-NET Training"
   ]
  },
  {
   "cell_type": "markdown",
   "id": "mWYphjN8iyzU",
   "metadata": {
    "id": "mWYphjN8iyzU"
   },
   "source": [
    "SECTION UNDER CONSTRUCTION"
   ]
  },
  {
   "cell_type": "markdown",
   "id": "6hUf1-1nGONh",
   "metadata": {
    "id": "6hUf1-1nGONh"
   },
   "source": [
    "## Sample Model Outputs"
   ]
  },
  {
   "cell_type": "markdown",
   "id": "CyE5ulR7GRzD",
   "metadata": {
    "id": "CyE5ulR7GRzD"
   },
   "source": [
    "Since PSP-Net outperformed the U-Net model, it was used as out final model for submissions. Below are some of the sample predictive outputs from the model."
   ]
  },
  {
   "cell_type": "markdown",
   "id": "fHk3BAFNi2CF",
   "metadata": {
    "id": "fHk3BAFNi2CF"
   },
   "source": [
    "SECTION UNDER CONSTRUCTION"
   ]
  }
 ],
 "metadata": {
  "colab": {
   "provenance": []
  },
  "kernelspec": {
   "display_name": "Python 3",
   "language": "python",
   "name": "python3"
  },
  "language_info": {
   "codemirror_mode": {
    "name": "ipython",
    "version": 3
   },
   "file_extension": ".py",
   "mimetype": "text/x-python",
   "name": "python",
   "nbconvert_exporter": "python",
   "pygments_lexer": "ipython3",
   "version": "3.9.2"
  }
 },
 "nbformat": 4,
 "nbformat_minor": 5
}
